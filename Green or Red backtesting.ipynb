{
 "cells": [
  {
   "cell_type": "code",
   "execution_count": 1,
   "id": "6e13cbc7",
   "metadata": {},
   "outputs": [],
   "source": [
    "import pandas as pd\n",
    "import yfinance as yf\n",
    "import matplotlib.pyplot as plt\n",
    "import time\n",
    "import openpyxl\n",
    "from datetime import datetime"
   ]
  },
  {
   "cell_type": "code",
   "execution_count": 2,
   "id": "32d9062f",
   "metadata": {},
   "outputs": [],
   "source": [
    "df = pd.read_csv(r\"C:\\Users\\RAGUL\\Documents\\stocks\\backtesting\\bearish harami 61.07660455486542 %.csv\")"
   ]
  },
  {
   "cell_type": "code",
   "execution_count": 3,
   "id": "f0ad8e13",
   "metadata": {},
   "outputs": [],
   "source": [
    "hol = pd.read_excel(r\"C:\\Users\\RAGUL\\Documents\\stocks\\nse holidays.xlsx\")\n",
    "hollist=[]\n",
    "for i in range (0,hol.index.stop):\n",
    "    hollist.append(hol[\"DATE\"][i])\n",
    "#print(hollist)"
   ]
  },
  {
   "cell_type": "code",
   "execution_count": 4,
   "id": "bb8aa697",
   "metadata": {},
   "outputs": [],
   "source": [
    "d = {}\n",
    "date = []\n",
    "ticker = []\n",
    "for r in range (0,df.index.stop):\n",
    "        Dcell = df[\"date\"][r]\n",
    "        Scell = df[\"symbol\"][r]\n",
    "        date_object = datetime.strptime(Dcell, '%d-%m-%Y').date()\n",
    "        date.append(date_object)\n",
    "        ticker.append(Scell)\n",
    "data = list(zip(date, ticker))\n",
    "for day,value in data:\n",
    "    try:\n",
    "        d[day].append(value)\n",
    "    except KeyError:\n",
    "        d[day] = [value]\n",
    "#print(d)"
   ]
  },
  {
   "cell_type": "code",
   "execution_count": 5,
   "id": "0df940a6",
   "metadata": {},
   "outputs": [],
   "source": [
    " def weekend():\n",
    "            global t\n",
    "            global date\n",
    "            global dayname\n",
    "            if(dayname in daylist ):\n",
    "                t= t+172800\n",
    "                date = datetime.fromtimestamp( t )\n",
    "                dayname = date.strftime('%A')\n",
    "def holiday():\n",
    "            global t\n",
    "            global date\n",
    "            global dayname\n",
    "            if(date in hollist): \n",
    "                t= t + 86400\n",
    "               # print('entered')\n",
    "                date = datetime.fromtimestamp( t )\n",
    "                #print(date)\n",
    "                dayname = date.strftime('%A')\n",
    "                holiday()"
   ]
  },
  {
   "cell_type": "code",
   "execution_count": 6,
   "id": "8e6ed215",
   "metadata": {},
   "outputs": [],
   "source": [
    "profitcount = 0 \n",
    "totalcount =0\n",
    "daylist = [\"Saturday\"]\n",
    "for key, value in d.items():\n",
    "   \n",
    "    t = int(time.mktime(key.timetuple())) + 86400\n",
    "    for symb in value:    \n",
    "        tick = symb+'.NS'\n",
    "        date = datetime.fromtimestamp( t )  \n",
    "        dayname = date.strftime('%A')\n",
    "        weekend()\n",
    "        holiday()\n",
    "        weekend()\n",
    "        #print(date)\n",
    "        date = datetime.fromtimestamp( t )  \n",
    "        #print(t)\n",
    "        dayname = date.strftime('%A')\n",
    "        #print(dayname)\n",
    "        #print(tick)\n",
    "       \n",
    "        link = f'https://query1.finance.yahoo.com/v7/finance/download/{tick}?period1={t}&period2={t+86400}&interval=1d&events=history&includeAdjustedClose=true'\n",
    "        data = pd.read_csv(link)\n",
    "        #print(data)\n",
    "        close = data['Close'][0]\n",
    "        oppen = data['Open'][0]\n",
    "        hi =  data['High'][0]\n",
    "        lo =  data['Low'][0]\n",
    "        totalcount+=1\n",
    "        fact = 100/oppen\n",
    "        val = fact * hi\n",
    "        perc = val - 100\n",
    "        #print (\"percent is \",perc)\n",
    "        if(close<oppen and (perc<1)):profitcount+=1\n",
    "        "
   ]
  },
  {
   "cell_type": "code",
   "execution_count": 7,
   "id": "34e57ee4",
   "metadata": {
    "scrolled": true
   },
   "outputs": [
    {
     "name": "stdout",
     "output_type": "stream",
     "text": [
      "162\n",
      "483\n",
      "33.54037267080746 %\n"
     ]
    }
   ],
   "source": [
    "print (profitcount)\n",
    "print(totalcount)\n",
    "win = profitcount/totalcount*100\n",
    "print(win,'%')"
   ]
  },
  {
   "cell_type": "code",
   "execution_count": null,
   "id": "8f2ec44b",
   "metadata": {},
   "outputs": [],
   "source": []
  }
 ],
 "metadata": {
  "kernelspec": {
   "display_name": "Python 3 (ipykernel)",
   "language": "python",
   "name": "python3"
  },
  "language_info": {
   "codemirror_mode": {
    "name": "ipython",
    "version": 3
   },
   "file_extension": ".py",
   "mimetype": "text/x-python",
   "name": "python",
   "nbconvert_exporter": "python",
   "pygments_lexer": "ipython3",
   "version": "3.9.12"
  }
 },
 "nbformat": 4,
 "nbformat_minor": 5
}
